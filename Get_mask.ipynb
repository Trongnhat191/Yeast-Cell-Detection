{
  "nbformat": 4,
  "nbformat_minor": 0,
  "metadata": {
    "colab": {
      "provenance": [],
      "mount_file_id": "1pUt2o--PrLSLmPBJ7HdXmWt7zoxNYFjM",
      "authorship_tag": "ABX9TyOna3T248WVcqp+e9lSAF6c",
      "include_colab_link": true
    },
    "kernelspec": {
      "name": "python3",
      "display_name": "Python 3"
    },
    "language_info": {
      "name": "python"
    }
  },
  "cells": [
    {
      "cell_type": "markdown",
      "metadata": {
        "id": "view-in-github",
        "colab_type": "text"
      },
      "source": [
        "<a href=\"https://colab.research.google.com/github/Trongnhat191/Yeast-Cell-Detection/blob/main/Get_mask.ipynb\" target=\"_parent\"><img src=\"https://colab.research.google.com/assets/colab-badge.svg\" alt=\"Open In Colab\"/></a>"
      ]
    },
    {
      "cell_type": "code",
      "execution_count": null,
      "metadata": {
        "id": "rUUKWo2flqUe"
      },
      "outputs": [],
      "source": [
        "cd /content/drive/MyDrive/Yeast_Nhat"
      ]
    },
    {
      "cell_type": "code",
      "source": [
        "import os\n",
        "import cv2\n",
        "import numpy as np\n",
        "import matplotlib.pyplot as plt\n",
        "from google.colab.patches import cv2_imshow\n",
        "import tensorflow as tf"
      ],
      "metadata": {
        "id": "lqJnWbQSmapk"
      },
      "execution_count": null,
      "outputs": []
    },
    {
      "cell_type": "code",
      "source": [
        "!pip install tensorflow==2.15.0"
      ],
      "metadata": {
        "id": "_kwLgxHimWab"
      },
      "execution_count": null,
      "outputs": []
    },
    {
      "cell_type": "code",
      "source": [
        "def cut_unecessary_img(head_path,input_paths,save_paths):\n",
        "  for i in range(len(input_paths)):\n",
        "    image = cv2.imread(os.path.join(head_path, input_paths[i]))\n",
        "    cv2_imshow(image)\n",
        "    gray_image = cv2.cvtColor(image, cv2.COLOR_BGR2GRAY)\n",
        "\n",
        "    threshold_value = 185\n",
        "    ret, thresholded_image = cv2.threshold(gray_image, threshold_value, 255, cv2.THRESH_BINARY)\n",
        "\n",
        "    thresholded_image = cv2.bitwise_not(thresholded_image)\n",
        "\n",
        "    contours, _ = cv2.findContours(thresholded_image, cv2.RETR_LIST, cv2.CHAIN_APPROX_SIMPLE)\n",
        "\n",
        "    mask = np.zeros_like(gray_image)\n",
        "\n",
        "    new_contours = ()\n",
        "\n",
        "    MIN_HEIGHT = image.shape[1] * 0.5\n",
        "    for cnt in contours:\n",
        "        x, y, w, h = cv2.boundingRect(cnt)\n",
        "        if h >= MIN_HEIGHT:\n",
        "            new_contours += (cnt,)\n",
        "    con = new_contours[0]\n",
        "    cv2.drawContours(mask, [con], -1, (255), thickness=cv2.FILLED)\n",
        "    x ,y,w,h = cv2.boundingRect(con)\n",
        "    # Apply the mask to the original image\n",
        "    result = cv2.bitwise_and(image, image, mask=mask)\n",
        "    # result = resize_image(result)\n",
        "    # result = pad_img(result, (1536, 1536))\n",
        "    cv2_imshow(result)\n",
        "    result = result[y:y+1536,x:x+1536]\n",
        "    cv2_imshow(result)\n",
        "    plt.show()\n",
        "    # Display the result\n",
        "    save_path = os.path.join(save_paths,input_paths[i])\n",
        "    # cv2.imwrite(save_path, result)\n",
        "\n",
        "\n",
        "def pad_img(img, target_size = (1536, 1536)):\n",
        "    # Lấy kích thước hiện tại của ảnh\n",
        "    h, w = img.shape[:2]\n",
        "\n",
        "    # Tính toán số lượng padding cần thiết\n",
        "    pad_h = max(0, (target_size[0] - h) // 2)\n",
        "    pad_w = max(0, (target_size[1] - w) // 2)\n",
        "\n",
        "    ex1 = (target_size[0] - h) % 2\n",
        "    ex2 = (target_size[1] - w) % 2\n",
        "    # Pad ảnh sao cho kích thước đạt target_size\n",
        "    padded_img = cv2.copyMakeBorder(\n",
        "        img,\n",
        "        pad_h, pad_h + ex1, pad_w, pad_w +ex2,\n",
        "        borderType=cv2.BORDER_CONSTANT,\n",
        "        value=0\n",
        "    )\n",
        "\n",
        "    # Cắt ảnh nếu kích thước vượt quá target_size sau padding\n",
        "    padded_img = padded_img[:target_size[0], :target_size[1]]\n",
        "\n",
        "    return padded_img"
      ],
      "metadata": {
        "id": "Ok0amqXimZr8"
      },
      "execution_count": null,
      "outputs": []
    },
    {
      "cell_type": "code",
      "source": [
        "images_2h_list = os.listdir('Back_test/F1_B1_2H')\n",
        "images_4h_list = os.listdir('Back_test/F1_B1_4H')\n",
        "cut_unecessary_img('Back_test/F1_B1_2H',images_2h_list,'Back_test_Cut_Outside/F1_B1_2H' )\n",
        "cut_unecessary_img('Back_test/F1_B1_2H',images_2h_list,'Back_test_Cut_Outside/F1_B1_2H' )"
      ],
      "metadata": {
        "id": "FOngq9mHmcqd"
      },
      "execution_count": null,
      "outputs": []
    },
    {
      "cell_type": "code",
      "source": [
        "images_4h_list = os.listdir('Back_test_Cut_Outside/F1_B1_4H')\n",
        "images_2h_list = os.listdir('Back_test_Cut_Outside/F1_B1_2H')\n",
        "print(len(images_4h_list))\n",
        "for i in images_4h_list:\n",
        "  tmp =cv2.imread(os.path.join('Back_test_Cut_Outside/F1_B1_4H',i))\n",
        "  tmp = pad_img(tmp, (1536, 1536))\n",
        "#   cv2.imwrite(os.path.join('Back_test_Cut_Outside/F1_B1_4H',i), tmp)\n",
        "  print(tmp.shape)\n",
        "\n",
        "for i in images_2h_list:\n",
        "  tmp =cv2.imread(os.path.join('Back_test_Cut_Outside/F1_B1_2H',i))\n",
        "  tmp = pad_img(tmp, (1536, 1536))\n",
        "#   cv2.imwrite(os.path.join('Back_test_Cut_Outside/F1_B1_2H',i), tmp)\n",
        "  cv2_imshow(tmp)\n"
      ],
      "metadata": {
        "id": "gLdTFvphmeUA"
      },
      "execution_count": null,
      "outputs": []
    },
    {
      "cell_type": "code",
      "source": [
        "def read_image(image_path):\n",
        "    image = tf.io.read_file(image_path)\n",
        "    image = tf.image.decode_png(image, channels=3)\n",
        "    # Convert the TensorFlow tensor to a NumPy array\n",
        "    image = image.numpy() # Add this line to convert to NumPy array\n",
        "    image = pad_img(image, (1536, 1536))\n",
        "    image = tf.cast(image, tf.float32) / 255.0\n",
        "    return image"
      ],
      "metadata": {
        "id": "VYnE56_mmnf6"
      },
      "execution_count": null,
      "outputs": []
    },
    {
      "cell_type": "code",
      "source": [
        "two_folders_path_list = os.listdir('Back_test')\n",
        "print(two_folders_path_list)\n",
        "images_4h_list = os.listdir('Back_test/F1_B1_4H')\n",
        "print(len(images_4h_list))\n",
        "images_2h_list = os.listdir('Back_test/F1_B1_2H')\n",
        "print(len(images_2h_list))"
      ],
      "metadata": {
        "id": "mOn6yiz0mpSl"
      },
      "execution_count": null,
      "outputs": []
    },
    {
      "cell_type": "code",
      "source": [
        "images = []\n",
        "\n",
        "for f in images_2h_list:\n",
        "    image_path = os.path.join('Back_test_Cut_Outside/F1_B1_2H', f)\n",
        "    image = read_image(image_path)\n",
        "    images.append(image)\n"
      ],
      "metadata": {
        "id": "9W6VHRBHmrb-"
      },
      "execution_count": null,
      "outputs": []
    },
    {
      "cell_type": "code",
      "source": [
        "images.shape"
      ],
      "metadata": {
        "id": "B6kRQqTemtY3"
      },
      "execution_count": null,
      "outputs": []
    },
    {
      "cell_type": "code",
      "source": [
        "images_path_list = os.listdir('Tu_Lieu_AI_Goc_Cut_Outside')\n",
        "for ipl in images_path_list:\n",
        "  print(ipl)\n",
        "  image = cv2.imread(os.path.join('Tu_Lieu_AI_Goc_Cut_Outside',ipl))\n",
        "  image = pad_img(image, (1536, 1536))\n",
        "  cv2.imwrite(os.path.join(\"train_data/images\", ipl), image)"
      ],
      "metadata": {
        "id": "9tPcd7JWmwOQ"
      },
      "execution_count": null,
      "outputs": []
    },
    {
      "cell_type": "code",
      "source": [
        "from keras.models import load_model\n",
        "\n",
        "unet = load_model(\"68unet-non-aug.h5\")"
      ],
      "metadata": {
        "id": "OICaECOQmxYI"
      },
      "execution_count": null,
      "outputs": []
    },
    {
      "cell_type": "code",
      "source": [
        "output_dir = \"mask\"\n",
        "# os.makedirs(output_dir, exist_ok=True)\n",
        "batch_size = 1\n",
        "predictions = []\n",
        "for i in range(0, len(images), batch_size):\n",
        "    batch_predictions = unet.predict(images[i:i+batch_size])\n",
        "    predictions.extend(batch_predictions)\n",
        "\n",
        "predictions = np.array(predictions)\n",
        "\n",
        "# Hiển thị và lưu các ảnh và mask dự đoán tương ứng\n",
        "for i in range(len(images_path_list)):\n",
        "    plt.figure(figsize=(20, 10))\n",
        "\n",
        "    # Ảnh gốc\n",
        "    plt.subplot(1, 2, 1)\n",
        "    plt.imshow(images[i])\n",
        "    plt.title(\"Original Image\")\n",
        "\n",
        "    # Mask dự đoán\n",
        "    plt.subplot(1, 2, 2)\n",
        "    plt.imshow(predictions[i].squeeze(), cmap='gray')\n",
        "    output_file = os.path.join(output_dir, images_path_list[i])\n",
        "    plt.imsave(output_file, predictions[i].squeeze(), cmap='gray')\n",
        "    plt.title(\"Predicted Mask\")\n",
        "\n",
        "    plt.show()\n"
      ],
      "metadata": {
        "id": "2Rwy9KOlmyse"
      },
      "execution_count": null,
      "outputs": []
    }
  ]
}